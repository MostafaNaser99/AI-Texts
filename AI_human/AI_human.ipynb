{
 "cells": [
  {
   "cell_type": "markdown",
   "id": "f5ba520e",
   "metadata": {},
   "source": [
    "# Setup"
   ]
  },
  {
   "cell_type": "code",
   "execution_count": 1,
   "id": "b1a7730d",
   "metadata": {},
   "outputs": [],
   "source": [
    "#python >=3.5\n",
    "import sys\n",
    "assert sys.version_info >= (3,5)\n",
    "\n",
    "#scikit-learn >=0.20\n",
    "import sklearn\n",
    "assert sklearn.__version__ >= \"0.20\"\n",
    "\n",
    "#common imports\n",
    "import numpy as np\n",
    "import os\n",
    "\n",
    "#figures\n",
    "%matplotlib inline\n",
    "import matplotlib as mpl\n",
    "import matplotlib.pyplot as plt\n",
    "mpl.rc(\"axes\", labelsize = 14)\n",
    "mpl.rc(\"xtick\", labelsize = 12)\n",
    "mpl.rc(\"ytick\", labelsize = 12)\n",
    "\n",
    "\n",
    "#where to save the figures\n",
    "PROJECT_ROOT_DIR = \".\"\n",
    "CHAPTER_ID = \"AI_Human\"\n",
    "IMAGES_PATH = os.path.join(PROJECT_ROOT_DIR, \"images\", CHAPTER_ID)\n",
    "os.makedirs(IMAGES_PATH, exist_ok=True)\n",
    "\n",
    "def save_fig(fig_id, tight_layout=True, fig_extension=\"png\", resolution=300):\n",
    "    path = os.path.join(IMAGES_PATH, fig_id+\".\"+fig_extension)\n",
    "    print(\"saving figure\", fig_id)\n",
    "    if tight_layout:\n",
    "        plt.tight_layout()\n",
    "    plt.savefig(path, format=fig_extension, dpi=resolution)   \n",
    "    \n",
    "#where to save the word embedding model\n",
    "MODEL_PATH = os.path.join(PROJECT_ROOT_DIR, \"model\")\n",
    "os.makedirs(MODEL_PATH, exist_ok=True)    "
   ]
  },
  {
   "cell_type": "code",
   "execution_count": 2,
   "id": "b77a4187",
   "metadata": {},
   "outputs": [],
   "source": [
    "import pandas as pd\n",
    "texts = pd.read_csv(\"AI_Human.csv\")"
   ]
  },
  {
   "cell_type": "markdown",
   "id": "d6f9ecae",
   "metadata": {},
   "source": [
    "# Data overview"
   ]
  },
  {
   "cell_type": "code",
   "execution_count": 3,
   "id": "67deef2a",
   "metadata": {},
   "outputs": [
    {
     "name": "stdout",
     "output_type": "stream",
     "text": [
      "<class 'pandas.core.frame.DataFrame'>\n",
      "RangeIndex: 487235 entries, 0 to 487234\n",
      "Data columns (total 2 columns):\n",
      " #   Column     Non-Null Count   Dtype  \n",
      "---  ------     --------------   -----  \n",
      " 0   text       487235 non-null  object \n",
      " 1   generated  487235 non-null  float64\n",
      "dtypes: float64(1), object(1)\n",
      "memory usage: 7.4+ MB\n"
     ]
    }
   ],
   "source": [
    "texts.info()"
   ]
  },
  {
   "cell_type": "code",
   "execution_count": 4,
   "id": "e41c67e0",
   "metadata": {},
   "outputs": [
    {
     "data": {
      "text/html": [
       "<div>\n",
       "<style scoped>\n",
       "    .dataframe tbody tr th:only-of-type {\n",
       "        vertical-align: middle;\n",
       "    }\n",
       "\n",
       "    .dataframe tbody tr th {\n",
       "        vertical-align: top;\n",
       "    }\n",
       "\n",
       "    .dataframe thead th {\n",
       "        text-align: right;\n",
       "    }\n",
       "</style>\n",
       "<table border=\"1\" class=\"dataframe\">\n",
       "  <thead>\n",
       "    <tr style=\"text-align: right;\">\n",
       "      <th></th>\n",
       "      <th>text</th>\n",
       "      <th>generated</th>\n",
       "    </tr>\n",
       "  </thead>\n",
       "  <tbody>\n",
       "    <tr>\n",
       "      <th>0</th>\n",
       "      <td>Cars. Cars have been around since they became ...</td>\n",
       "      <td>0.0</td>\n",
       "    </tr>\n",
       "    <tr>\n",
       "      <th>1</th>\n",
       "      <td>Transportation is a large necessity in most co...</td>\n",
       "      <td>0.0</td>\n",
       "    </tr>\n",
       "    <tr>\n",
       "      <th>2</th>\n",
       "      <td>\"America's love affair with it's vehicles seem...</td>\n",
       "      <td>0.0</td>\n",
       "    </tr>\n",
       "    <tr>\n",
       "      <th>3</th>\n",
       "      <td>How often do you ride in a car? Do you drive a...</td>\n",
       "      <td>0.0</td>\n",
       "    </tr>\n",
       "    <tr>\n",
       "      <th>4</th>\n",
       "      <td>Cars are a wonderful thing. They are perhaps o...</td>\n",
       "      <td>0.0</td>\n",
       "    </tr>\n",
       "  </tbody>\n",
       "</table>\n",
       "</div>"
      ],
      "text/plain": [
       "                                                text  generated\n",
       "0  Cars. Cars have been around since they became ...        0.0\n",
       "1  Transportation is a large necessity in most co...        0.0\n",
       "2  \"America's love affair with it's vehicles seem...        0.0\n",
       "3  How often do you ride in a car? Do you drive a...        0.0\n",
       "4  Cars are a wonderful thing. They are perhaps o...        0.0"
      ]
     },
     "execution_count": 4,
     "metadata": {},
     "output_type": "execute_result"
    }
   ],
   "source": [
    "texts.head()"
   ]
  },
  {
   "cell_type": "code",
   "execution_count": 5,
   "id": "67e15800",
   "metadata": {},
   "outputs": [
    {
     "data": {
      "text/plain": [
       "'Cars. Cars have been around since they became famous in the 1900s, when Henry Ford created and built the first ModelT. Cars have played a major role in our every day lives since then. But now, people are starting to question if limiting car usage would be a good thing. To me, limiting the use of cars might be a good thing to do.\\n\\nIn like matter of this, article, \"In German Suburb, Life Goes On Without Cars,\" by Elizabeth Rosenthal states, how automobiles are the linchpin of suburbs, where middle class families from either Shanghai or Chicago tend to make their homes. Experts say how this is a huge impediment to current efforts to reduce greenhouse gas emissions from tailpipe. Passenger cars are responsible for 12 percent of greenhouse gas emissions in Europe...and up to 50 percent in some carintensive areas in the United States. Cars are the main reason for the greenhouse gas emissions because of a lot of people driving them around all the time getting where they need to go. Article, \"Paris bans driving due to smog,\" by Robert Duffer says, how Paris, after days of nearrecord pollution, enforced a partial driving ban to clear the air of the global city. It also says, how on Monday, motorist with evennumbered license plates were ordered to leave their cars at home or be fined a 22euro fine 31. The same order would be applied to oddnumbered plates the following day. Cars are the reason for polluting entire cities like Paris. This shows how bad cars can be because, of all the pollution that they can cause to an entire city.\\n\\nLikewise, in the article, \"Carfree day is spinning into a big hit in Bogota,\" by Andrew Selsky says, how programs that\\'s set to spread to other countries, millions of Columbians hiked, biked, skated, or took the bus to work during a carfree day, leaving streets of this capital city eerily devoid of traffic jams. It was the third straight year cars have been banned with only buses and taxis permitted for the Day Without Cars in the capital city of 7 million. People like the idea of having carfree days because, it allows them to lesson the pollution that cars put out of their exhaust from people driving all the time. The article also tells how parks and sports centers have bustled throughout the city uneven, pitted sidewalks have been replaced by broad, smooth sidewalks rushhour restrictions have dramatically cut traffic and new restaurants and upscale shopping districts have cropped up. Having no cars has been good for the country of Columbia because, it has aloud them to repair things that have needed repairs for a long time, traffic jams have gone down, and restaurants and shopping districts have popped up, all due to the fact of having less cars around.\\n\\nIn conclusion, the use of less cars and having carfree days, have had a big impact on the environment of cities because, it is cutting down the air pollution that the cars have majorly polluted, it has aloud countries like Columbia to repair sidewalks, and cut down traffic jams. Limiting the use of cars would be a good thing for America. So we should limit the use of cars by maybe riding a bike, or maybe walking somewhere that isn\\'t that far from you and doesn\\'t need the use of a car to get you there. To me, limiting the use of cars might be a good thing to do.'"
      ]
     },
     "execution_count": 5,
     "metadata": {},
     "output_type": "execute_result"
    }
   ],
   "source": [
    "texts.iloc[0,0]"
   ]
  },
  {
   "cell_type": "markdown",
   "id": "a1682f73",
   "metadata": {},
   "source": [
    "# Splitting the data"
   ]
  },
  {
   "cell_type": "code",
   "execution_count": 6,
   "id": "99149261",
   "metadata": {},
   "outputs": [
    {
     "data": {
      "text/plain": [
       "15592"
      ]
     },
     "execution_count": 6,
     "metadata": {},
     "output_type": "execute_result"
    }
   ],
   "source": [
    "from sklearn.model_selection import StratifiedShuffleSplit\n",
    "\n",
    "x = texts['text']\n",
    "y = texts['generated']\n",
    "\n",
    "#splitting the data twice because it's too big to test methods on\n",
    "#first split 96% validation 4%subset\n",
    "StratifiedSplit = StratifiedShuffleSplit(n_splits=1, test_size=0.04, random_state=42)\n",
    "split_index = list(StratifiedSplit.split(x,y))\n",
    "validation_index,subset_index = split_index[0]\n",
    "\n",
    "x_validation,x_subset = x[validation_index], x[subset_index]\n",
    "y_validation,y_subset = y[validation_index], y[subset_index]\n",
    "\n",
    "#second split 80% train 20% test\n",
    "StratifiedSplit = StratifiedShuffleSplit(n_splits=1, test_size=0.2, random_state=42)\n",
    "split_index = list(StratifiedSplit.split(x_subset,y_subset))\n",
    "\n",
    "train_index,test_index = split_index[0]\n",
    "\n",
    "x_train,x_test = x[train_index], x[test_index]\n",
    "y_train,y_test = y[train_index], y[test_index]\n",
    "len(x_train)"
   ]
  },
  {
   "cell_type": "markdown",
   "id": "ed37d020-31f5-41cc-b4e3-81961f06beac",
   "metadata": {},
   "source": [
    "# Word vectorization"
   ]
  },
  {
   "cell_type": "code",
   "execution_count": 7,
   "id": "f66558b9",
   "metadata": {},
   "outputs": [
    {
     "name": "stderr",
     "output_type": "stream",
     "text": [
      "[nltk_data] Downloading package punkt to\n",
      "[nltk_data]     C:\\Users\\PC\\AppData\\Roaming\\nltk_data...\n",
      "[nltk_data]   Package punkt is already up-to-date!\n",
      "[nltk_data] Downloading package stopwords to\n",
      "[nltk_data]     C:\\Users\\PC\\AppData\\Roaming\\nltk_data...\n",
      "[nltk_data]   Package stopwords is already up-to-date!\n"
     ]
    }
   ],
   "source": [
    "import string\n",
    "import nltk\n",
    "from nltk.corpus import stopwords\n",
    "from nltk.tokenize import word_tokenize\n",
    "from sklearn.base import BaseEstimator, TransformerMixin\n",
    "\n",
    "#word tokenizer\n",
    "class WordFilter(BaseEstimator, TransformerMixin):\n",
    "    def __init__(self,words_to_remove):\n",
    "        self.words_to_remove = words_to_remove\n",
    "        \n",
    "    def fit(self, X, y=None):\n",
    "        return self\n",
    "    \n",
    "    def transform(self, X):\n",
    "        return [self.remove_words(text) for text in X]\n",
    "    \n",
    "    def remove_words(self,text):\n",
    "        tokens = word_tokenize(text)\n",
    "        filtered_text = [word for word in tokens if word.lower() not in self.words_to_remove]         \n",
    "        return ' '.join(filtered_text)\n",
    "\n",
    "#downloading stop words and 'punkt' :abbreviation words, collocations, and words that start sentences\n",
    "nltk.download('punkt')\n",
    "nltk.download('stopwords')\n",
    "stop_words = set(stopwords.words('english'))\n",
    "punc = set(string.punctuation)\n",
    "tags = {'\\n', '\\''}\n",
    "text_filter = stop_words|punc|tags"
   ]
  },
  {
   "cell_type": "code",
   "execution_count": 8,
   "id": "61f48660",
   "metadata": {},
   "outputs": [],
   "source": [
    "from sklearn.svm import SVC\n",
    "from sklearn.metrics import accuracy_score, classification_report\n",
    "from sklearn.feature_extraction.text import CountVectorizer, TfidfTransformer\n",
    "from sklearn.pipeline import Pipeline\n",
    "\n",
    "\n",
    "vectorizer_pipeline = Pipeline([\n",
    "    (\"word_filter\",WordFilter(words_to_remove=text_filter)),\n",
    "    (\"count_vectorizer\",CountVectorizer()),\n",
    "    (\"tf-id\",TfidfTransformer()),\n",
    "    (\"svc\",SVC(kernel='linear', C=1.0, verbose =True))\n",
    "])"
   ]
  },
  {
   "cell_type": "code",
   "execution_count": 18,
   "id": "5651cd7e",
   "metadata": {},
   "outputs": [
    {
     "data": {
      "text/html": [
       "<style>#sk-container-id-1 {color: black;background-color: white;}#sk-container-id-1 pre{padding: 0;}#sk-container-id-1 div.sk-toggleable {background-color: white;}#sk-container-id-1 label.sk-toggleable__label {cursor: pointer;display: block;width: 100%;margin-bottom: 0;padding: 0.3em;box-sizing: border-box;text-align: center;}#sk-container-id-1 label.sk-toggleable__label-arrow:before {content: \"▸\";float: left;margin-right: 0.25em;color: #696969;}#sk-container-id-1 label.sk-toggleable__label-arrow:hover:before {color: black;}#sk-container-id-1 div.sk-estimator:hover label.sk-toggleable__label-arrow:before {color: black;}#sk-container-id-1 div.sk-toggleable__content {max-height: 0;max-width: 0;overflow: hidden;text-align: left;background-color: #f0f8ff;}#sk-container-id-1 div.sk-toggleable__content pre {margin: 0.2em;color: black;border-radius: 0.25em;background-color: #f0f8ff;}#sk-container-id-1 input.sk-toggleable__control:checked~div.sk-toggleable__content {max-height: 200px;max-width: 100%;overflow: auto;}#sk-container-id-1 input.sk-toggleable__control:checked~label.sk-toggleable__label-arrow:before {content: \"▾\";}#sk-container-id-1 div.sk-estimator input.sk-toggleable__control:checked~label.sk-toggleable__label {background-color: #d4ebff;}#sk-container-id-1 div.sk-label input.sk-toggleable__control:checked~label.sk-toggleable__label {background-color: #d4ebff;}#sk-container-id-1 input.sk-hidden--visually {border: 0;clip: rect(1px 1px 1px 1px);clip: rect(1px, 1px, 1px, 1px);height: 1px;margin: -1px;overflow: hidden;padding: 0;position: absolute;width: 1px;}#sk-container-id-1 div.sk-estimator {font-family: monospace;background-color: #f0f8ff;border: 1px dotted black;border-radius: 0.25em;box-sizing: border-box;margin-bottom: 0.5em;}#sk-container-id-1 div.sk-estimator:hover {background-color: #d4ebff;}#sk-container-id-1 div.sk-parallel-item::after {content: \"\";width: 100%;border-bottom: 1px solid gray;flex-grow: 1;}#sk-container-id-1 div.sk-label:hover label.sk-toggleable__label {background-color: #d4ebff;}#sk-container-id-1 div.sk-serial::before {content: \"\";position: absolute;border-left: 1px solid gray;box-sizing: border-box;top: 0;bottom: 0;left: 50%;z-index: 0;}#sk-container-id-1 div.sk-serial {display: flex;flex-direction: column;align-items: center;background-color: white;padding-right: 0.2em;padding-left: 0.2em;position: relative;}#sk-container-id-1 div.sk-item {position: relative;z-index: 1;}#sk-container-id-1 div.sk-parallel {display: flex;align-items: stretch;justify-content: center;background-color: white;position: relative;}#sk-container-id-1 div.sk-item::before, #sk-container-id-1 div.sk-parallel-item::before {content: \"\";position: absolute;border-left: 1px solid gray;box-sizing: border-box;top: 0;bottom: 0;left: 50%;z-index: -1;}#sk-container-id-1 div.sk-parallel-item {display: flex;flex-direction: column;z-index: 1;position: relative;background-color: white;}#sk-container-id-1 div.sk-parallel-item:first-child::after {align-self: flex-end;width: 50%;}#sk-container-id-1 div.sk-parallel-item:last-child::after {align-self: flex-start;width: 50%;}#sk-container-id-1 div.sk-parallel-item:only-child::after {width: 0;}#sk-container-id-1 div.sk-dashed-wrapped {border: 1px dashed gray;margin: 0 0.4em 0.5em 0.4em;box-sizing: border-box;padding-bottom: 0.4em;background-color: white;}#sk-container-id-1 div.sk-label label {font-family: monospace;font-weight: bold;display: inline-block;line-height: 1.2em;}#sk-container-id-1 div.sk-label-container {text-align: center;}#sk-container-id-1 div.sk-container {/* jupyter's `normalize.less` sets `[hidden] { display: none; }` but bootstrap.min.css set `[hidden] { display: none !important; }` so we also need the `!important` here to be able to override the default hidden behavior on the sphinx rendered scikit-learn.org. See: https://github.com/scikit-learn/scikit-learn/issues/21755 */display: inline-block !important;position: relative;}#sk-container-id-1 div.sk-text-repr-fallback {display: none;}</style><div id=\"sk-container-id-1\" class=\"sk-top-container\"><div class=\"sk-text-repr-fallback\"><pre>Pipeline(steps=[(&#x27;word_filter&#x27;,\n",
       "                 WordFilter(words_to_remove={&#x27;\\n&#x27;, &#x27;!&#x27;, &#x27;&quot;&#x27;, &#x27;#&#x27;, &#x27;$&#x27;, &#x27;%&#x27;, &#x27;&amp;&#x27;,\n",
       "                                             &quot;&#x27;&quot;, &#x27;(&#x27;, &#x27;)&#x27;, &#x27;*&#x27;, &#x27;+&#x27;, &#x27;,&#x27;, &#x27;-&#x27;,\n",
       "                                             &#x27;.&#x27;, &#x27;/&#x27;, &#x27;:&#x27;, &#x27;;&#x27;, &#x27;&lt;&#x27;, &#x27;=&#x27;, &#x27;&gt;&#x27;,\n",
       "                                             &#x27;?&#x27;, &#x27;@&#x27;, &#x27;[&#x27;, &#x27;\\\\&#x27;, &#x27;]&#x27;, &#x27;^&#x27;, &#x27;_&#x27;,\n",
       "                                             &#x27;`&#x27;, &#x27;a&#x27;, ...})),\n",
       "                (&#x27;count_vectorizer&#x27;, CountVectorizer()),\n",
       "                (&#x27;tf-id&#x27;, TfidfTransformer()), (&#x27;svc&#x27;, SVC(kernel=&#x27;linear&#x27;))])</pre><b>In a Jupyter environment, please rerun this cell to show the HTML representation or trust the notebook. <br />On GitHub, the HTML representation is unable to render, please try loading this page with nbviewer.org.</b></div><div class=\"sk-container\" hidden><div class=\"sk-item sk-dashed-wrapped\"><div class=\"sk-label-container\"><div class=\"sk-label sk-toggleable\"><input class=\"sk-toggleable__control sk-hidden--visually\" id=\"sk-estimator-id-1\" type=\"checkbox\" ><label for=\"sk-estimator-id-1\" class=\"sk-toggleable__label sk-toggleable__label-arrow\">Pipeline</label><div class=\"sk-toggleable__content\"><pre>Pipeline(steps=[(&#x27;word_filter&#x27;,\n",
       "                 WordFilter(words_to_remove={&#x27;\\n&#x27;, &#x27;!&#x27;, &#x27;&quot;&#x27;, &#x27;#&#x27;, &#x27;$&#x27;, &#x27;%&#x27;, &#x27;&amp;&#x27;,\n",
       "                                             &quot;&#x27;&quot;, &#x27;(&#x27;, &#x27;)&#x27;, &#x27;*&#x27;, &#x27;+&#x27;, &#x27;,&#x27;, &#x27;-&#x27;,\n",
       "                                             &#x27;.&#x27;, &#x27;/&#x27;, &#x27;:&#x27;, &#x27;;&#x27;, &#x27;&lt;&#x27;, &#x27;=&#x27;, &#x27;&gt;&#x27;,\n",
       "                                             &#x27;?&#x27;, &#x27;@&#x27;, &#x27;[&#x27;, &#x27;\\\\&#x27;, &#x27;]&#x27;, &#x27;^&#x27;, &#x27;_&#x27;,\n",
       "                                             &#x27;`&#x27;, &#x27;a&#x27;, ...})),\n",
       "                (&#x27;count_vectorizer&#x27;, CountVectorizer()),\n",
       "                (&#x27;tf-id&#x27;, TfidfTransformer()), (&#x27;svc&#x27;, SVC(kernel=&#x27;linear&#x27;))])</pre></div></div></div><div class=\"sk-serial\"><div class=\"sk-item\"><div class=\"sk-estimator sk-toggleable\"><input class=\"sk-toggleable__control sk-hidden--visually\" id=\"sk-estimator-id-2\" type=\"checkbox\" ><label for=\"sk-estimator-id-2\" class=\"sk-toggleable__label sk-toggleable__label-arrow\">WordFilter</label><div class=\"sk-toggleable__content\"><pre>WordFilter(words_to_remove={&#x27;\\n&#x27;, &#x27;!&#x27;, &#x27;&quot;&#x27;, &#x27;#&#x27;, &#x27;$&#x27;, &#x27;%&#x27;, &#x27;&amp;&#x27;, &quot;&#x27;&quot;, &#x27;(&#x27;, &#x27;)&#x27;,\n",
       "                            &#x27;*&#x27;, &#x27;+&#x27;, &#x27;,&#x27;, &#x27;-&#x27;, &#x27;.&#x27;, &#x27;/&#x27;, &#x27;:&#x27;, &#x27;;&#x27;, &#x27;&lt;&#x27;, &#x27;=&#x27;,\n",
       "                            &#x27;&gt;&#x27;, &#x27;?&#x27;, &#x27;@&#x27;, &#x27;[&#x27;, &#x27;\\\\&#x27;, &#x27;]&#x27;, &#x27;^&#x27;, &#x27;_&#x27;, &#x27;`&#x27;, &#x27;a&#x27;, ...})</pre></div></div></div><div class=\"sk-item\"><div class=\"sk-estimator sk-toggleable\"><input class=\"sk-toggleable__control sk-hidden--visually\" id=\"sk-estimator-id-3\" type=\"checkbox\" ><label for=\"sk-estimator-id-3\" class=\"sk-toggleable__label sk-toggleable__label-arrow\">CountVectorizer</label><div class=\"sk-toggleable__content\"><pre>CountVectorizer()</pre></div></div></div><div class=\"sk-item\"><div class=\"sk-estimator sk-toggleable\"><input class=\"sk-toggleable__control sk-hidden--visually\" id=\"sk-estimator-id-4\" type=\"checkbox\" ><label for=\"sk-estimator-id-4\" class=\"sk-toggleable__label sk-toggleable__label-arrow\">TfidfTransformer</label><div class=\"sk-toggleable__content\"><pre>TfidfTransformer()</pre></div></div></div><div class=\"sk-item\"><div class=\"sk-estimator sk-toggleable\"><input class=\"sk-toggleable__control sk-hidden--visually\" id=\"sk-estimator-id-5\" type=\"checkbox\" ><label for=\"sk-estimator-id-5\" class=\"sk-toggleable__label sk-toggleable__label-arrow\">SVC</label><div class=\"sk-toggleable__content\"><pre>SVC(kernel=&#x27;linear&#x27;)</pre></div></div></div></div></div></div></div>"
      ],
      "text/plain": [
       "Pipeline(steps=[('word_filter',\n",
       "                 WordFilter(words_to_remove={'\\n', '!', '\"', '#', '$', '%', '&',\n",
       "                                             \"'\", '(', ')', '*', '+', ',', '-',\n",
       "                                             '.', '/', ':', ';', '<', '=', '>',\n",
       "                                             '?', '@', '[', '\\\\', ']', '^', '_',\n",
       "                                             '`', 'a', ...})),\n",
       "                ('count_vectorizer', CountVectorizer()),\n",
       "                ('tf-id', TfidfTransformer()), ('svc', SVC(kernel='linear'))])"
      ]
     },
     "execution_count": 18,
     "metadata": {},
     "output_type": "execute_result"
    }
   ],
   "source": [
    "vectorizer_pipeline.fit(x_train,y_train)"
   ]
  },
  {
   "cell_type": "code",
   "execution_count": 36,
   "id": "5609ff80",
   "metadata": {},
   "outputs": [
    {
     "data": {
      "text/plain": [
       "7796"
      ]
     },
     "execution_count": 36,
     "metadata": {},
     "output_type": "execute_result"
    }
   ],
   "source": [
    "y_pred = vectorizer_pipeline.predict(x_test)\n",
    "len(y_pred)"
   ]
  },
  {
   "cell_type": "code",
   "execution_count": null,
   "id": "ea31567a",
   "metadata": {},
   "outputs": [
    {
     "data": {
      "text/plain": [
       "0.9949974345818369"
      ]
     },
     "execution_count": 37,
     "metadata": {},
     "output_type": "execute_result"
    }
   ],
   "source": [
    "accuracy = accuracy_score(y_test,y_pred)\n",
    "my_list = y_pred.tolist()\n",
    "frequency = {item: my_list.count(item) for item in my_list}\n",
    "accuracy"
   ]
  },
  {
   "cell_type": "markdown",
   "id": "ec180e36-60a5-4aa9-8bd6-d667ba7c3620",
   "metadata": {},
   "source": [
    "# Random search for word vectorization"
   ]
  },
  {
   "cell_type": "code",
   "execution_count": 10,
   "id": "a079784e",
   "metadata": {},
   "outputs": [
    {
     "name": "stdout",
     "output_type": "stream",
     "text": [
      "Fitting 5 folds for each of 20 candidates, totalling 100 fits\n",
      "[CV] END svc__C=8.726728863398852, svc__gamma=0.731251388782287, svc__kernel=linear; total time= 1.3min\n",
      "[CV] END svc__C=8.726728863398852, svc__gamma=0.731251388782287, svc__kernel=linear; total time= 1.3min\n",
      "[CV] END svc__C=8.726728863398852, svc__gamma=0.731251388782287, svc__kernel=linear; total time= 1.3min\n",
      "[CV] END svc__C=8.726728863398852, svc__gamma=0.731251388782287, svc__kernel=linear; total time= 1.3min\n",
      "[CV] END svc__C=8.726728863398852, svc__gamma=0.731251388782287, svc__kernel=linear; total time= 1.3min\n",
      "[CV] END svc__C=15805.16646233074, svc__gamma=0.15813763277311954, svc__kernel=rbf; total time= 1.4min\n",
      "[CV] END svc__C=15805.16646233074, svc__gamma=0.15813763277311954, svc__kernel=rbf; total time= 1.4min\n",
      "[CV] END svc__C=15805.16646233074, svc__gamma=0.15813763277311954, svc__kernel=rbf; total time= 1.4min\n",
      "[CV] END svc__C=15805.16646233074, svc__gamma=0.15813763277311954, svc__kernel=rbf; total time= 1.4min\n",
      "[CV] END svc__C=15805.16646233074, svc__gamma=0.15813763277311954, svc__kernel=rbf; total time= 1.4min\n",
      "[CV] END svc__C=32.472906399679424, svc__gamma=0.9414843057425154, svc__kernel=rbf; total time= 1.8min\n",
      "[CV] END svc__C=32.472906399679424, svc__gamma=0.9414843057425154, svc__kernel=rbf; total time= 1.8min\n",
      "[CV] END svc__C=32.472906399679424, svc__gamma=0.9414843057425154, svc__kernel=rbf; total time= 1.8min\n",
      "[CV] END svc__C=32.472906399679424, svc__gamma=0.9414843057425154, svc__kernel=rbf; total time= 1.8min\n",
      "[CV] END svc__C=32.472906399679424, svc__gamma=0.9414843057425154, svc__kernel=rbf; total time= 1.8min\n",
      "[CV] END svc__C=2970.779368197665, svc__gamma=0.5058936836999143, svc__kernel=linear; total time= 1.3min\n",
      "[CV] END svc__C=2970.779368197665, svc__gamma=0.5058936836999143, svc__kernel=linear; total time= 1.3min\n",
      "[CV] END svc__C=2970.779368197665, svc__gamma=0.5058936836999143, svc__kernel=linear; total time= 1.3min\n",
      "[CV] END svc__C=2970.779368197665, svc__gamma=0.5058936836999143, svc__kernel=linear; total time= 1.3min\n",
      "[CV] END svc__C=2970.779368197665, svc__gamma=0.5058936836999143, svc__kernel=linear; total time= 1.3min\n",
      "[CV] END svc__C=238.01160610455108, svc__gamma=1.2185016581514359, svc__kernel=rbf; total time= 2.0min\n",
      "[CV] END svc__C=238.01160610455108, svc__gamma=1.2185016581514359, svc__kernel=rbf; total time= 2.0min\n",
      "[CV] END svc__C=238.01160610455108, svc__gamma=1.2185016581514359, svc__kernel=rbf; total time= 2.0min\n",
      "[CV] END svc__C=238.01160610455108, svc__gamma=1.2185016581514359, svc__kernel=rbf; total time= 2.0min\n",
      "[CV] END svc__C=238.01160610455108, svc__gamma=1.2185016581514359, svc__kernel=rbf; total time= 2.0min\n",
      "[CV] END svc__C=728.7439476867087, svc__gamma=3.291313202365885, svc__kernel=rbf; total time= 8.9min\n",
      "[CV] END svc__C=728.7439476867087, svc__gamma=3.291313202365885, svc__kernel=rbf; total time= 9.1min\n",
      "[CV] END svc__C=728.7439476867087, svc__gamma=3.291313202365885, svc__kernel=rbf; total time= 9.0min\n",
      "[CV] END svc__C=728.7439476867087, svc__gamma=3.291313202365885, svc__kernel=rbf; total time= 9.1min\n",
      "[CV] END svc__C=728.7439476867087, svc__gamma=3.291313202365885, svc__kernel=rbf; total time= 9.4min\n",
      "[CV] END svc__C=15055.261553305103, svc__gamma=1.4948818246586502, svc__kernel=rbf; total time= 2.3min\n",
      "[CV] END svc__C=15055.261553305103, svc__gamma=1.4948818246586502, svc__kernel=rbf; total time= 2.4min\n",
      "[CV] END svc__C=15055.261553305103, svc__gamma=1.4948818246586502, svc__kernel=rbf; total time= 2.4min\n",
      "[CV] END svc__C=15055.261553305103, svc__gamma=1.4948818246586502, svc__kernel=rbf; total time= 2.3min\n",
      "[CV] END svc__C=15055.261553305103, svc__gamma=1.4948818246586502, svc__kernel=rbf; total time= 2.3min\n",
      "[CV] END svc__C=1.8774659528354454, svc__gamma=3.358681760431438, svc__kernel=linear; total time= 1.3min\n",
      "[CV] END svc__C=1.8774659528354454, svc__gamma=3.358681760431438, svc__kernel=linear; total time= 1.3min\n",
      "[CV] END svc__C=1.8774659528354454, svc__gamma=3.358681760431438, svc__kernel=linear; total time= 1.3min\n",
      "[CV] END svc__C=1.8774659528354454, svc__gamma=3.358681760431438, svc__kernel=linear; total time= 1.3min\n",
      "[CV] END svc__C=1.8774659528354454, svc__gamma=3.358681760431438, svc__kernel=linear; total time= 1.3min\n",
      "[CV] END svc__C=20.19275539708963, svc__gamma=0.368163195865177, svc__kernel=linear; total time= 1.3min\n",
      "[CV] END svc__C=20.19275539708963, svc__gamma=0.368163195865177, svc__kernel=linear; total time= 1.3min\n",
      "[CV] END svc__C=20.19275539708963, svc__gamma=0.368163195865177, svc__kernel=linear; total time= 1.3min\n",
      "[CV] END svc__C=20.19275539708963, svc__gamma=0.368163195865177, svc__kernel=linear; total time= 1.3min\n",
      "[CV] END svc__C=20.19275539708963, svc__gamma=0.368163195865177, svc__kernel=linear; total time= 1.3min\n",
      "[CV] END svc__C=5.194775465909099, svc__gamma=2.616048886286577, svc__kernel=linear; total time= 1.3min\n",
      "[CV] END svc__C=5.194775465909099, svc__gamma=2.616048886286577, svc__kernel=linear; total time= 1.3min\n",
      "[CV] END svc__C=5.194775465909099, svc__gamma=2.616048886286577, svc__kernel=linear; total time= 1.3min\n",
      "[CV] END svc__C=5.194775465909099, svc__gamma=2.616048886286577, svc__kernel=linear; total time= 1.3min\n",
      "[CV] END svc__C=5.194775465909099, svc__gamma=2.616048886286577, svc__kernel=linear; total time= 1.4min\n",
      "[CV] END svc__C=5849.6747453318085, svc__gamma=0.9370990239668285, svc__kernel=rbf; total time= 1.9min\n",
      "[CV] END svc__C=5849.6747453318085, svc__gamma=0.9370990239668285, svc__kernel=rbf; total time= 2.0min\n",
      "[CV] END svc__C=5849.6747453318085, svc__gamma=0.9370990239668285, svc__kernel=rbf; total time= 2.0min\n",
      "[CV] END svc__C=5849.6747453318085, svc__gamma=0.9370990239668285, svc__kernel=rbf; total time= 1.9min\n",
      "[CV] END svc__C=5849.6747453318085, svc__gamma=0.9370990239668285, svc__kernel=rbf; total time= 1.9min\n",
      "[CV] END svc__C=17.439594529512245, svc__gamma=0.2556952063706577, svc__kernel=linear; total time= 1.3min\n",
      "[CV] END svc__C=17.439594529512245, svc__gamma=0.2556952063706577, svc__kernel=linear; total time= 1.3min\n",
      "[CV] END svc__C=17.439594529512245, svc__gamma=0.2556952063706577, svc__kernel=linear; total time= 1.3min\n",
      "[CV] END svc__C=17.439594529512245, svc__gamma=0.2556952063706577, svc__kernel=linear; total time= 1.3min\n",
      "[CV] END svc__C=17.439594529512245, svc__gamma=0.2556952063706577, svc__kernel=linear; total time= 1.4min\n",
      "[CV] END svc__C=1332.275312399986, svc__gamma=1.2990743297970013, svc__kernel=linear; total time= 1.3min\n",
      "[CV] END svc__C=1332.275312399986, svc__gamma=1.2990743297970013, svc__kernel=linear; total time= 1.3min\n",
      "[CV] END svc__C=1332.275312399986, svc__gamma=1.2990743297970013, svc__kernel=linear; total time= 1.3min\n",
      "[CV] END svc__C=1332.275312399986, svc__gamma=1.2990743297970013, svc__kernel=linear; total time= 1.4min\n",
      "[CV] END svc__C=1332.275312399986, svc__gamma=1.2990743297970013, svc__kernel=linear; total time= 1.4min\n",
      "[CV] END svc__C=2388.140344023526, svc__gamma=0.8915505498552274, svc__kernel=rbf; total time= 1.9min\n",
      "[CV] END svc__C=2388.140344023526, svc__gamma=0.8915505498552274, svc__kernel=rbf; total time= 1.8min\n",
      "[CV] END svc__C=2388.140344023526, svc__gamma=0.8915505498552274, svc__kernel=rbf; total time= 1.8min\n",
      "[CV] END svc__C=2388.140344023526, svc__gamma=0.8915505498552274, svc__kernel=rbf; total time= 1.9min\n",
      "[CV] END svc__C=2388.140344023526, svc__gamma=0.8915505498552274, svc__kernel=rbf; total time= 1.9min\n",
      "[CV] END svc__C=8.813079461874645, svc__gamma=0.824510289681452, svc__kernel=rbf; total time= 1.8min\n",
      "[CV] END svc__C=8.813079461874645, svc__gamma=0.824510289681452, svc__kernel=rbf; total time= 1.8min\n",
      "[CV] END svc__C=8.813079461874645, svc__gamma=0.824510289681452, svc__kernel=rbf; total time= 1.7min\n",
      "[CV] END svc__C=8.813079461874645, svc__gamma=0.824510289681452, svc__kernel=rbf; total time= 1.7min\n",
      "[CV] END svc__C=8.813079461874645, svc__gamma=0.824510289681452, svc__kernel=rbf; total time= 1.7min\n",
      "[CV] END svc__C=17566.9502268849, svc__gamma=0.22267632566630266, svc__kernel=rbf; total time= 1.4min\n",
      "[CV] END svc__C=17566.9502268849, svc__gamma=0.22267632566630266, svc__kernel=rbf; total time= 1.4min\n",
      "[CV] END svc__C=17566.9502268849, svc__gamma=0.22267632566630266, svc__kernel=rbf; total time= 1.4min\n",
      "[CV] END svc__C=17566.9502268849, svc__gamma=0.22267632566630266, svc__kernel=rbf; total time= 1.4min\n"
     ]
    },
    {
     "name": "stdout",
     "output_type": "stream",
     "text": [
      "[CV] END svc__C=17566.9502268849, svc__gamma=0.22267632566630266, svc__kernel=rbf; total time= 1.4min\n",
      "[CV] END svc__C=7183.212976608682, svc__gamma=0.1342610478162766, svc__kernel=rbf; total time= 1.4min\n",
      "[CV] END svc__C=7183.212976608682, svc__gamma=0.1342610478162766, svc__kernel=rbf; total time= 1.4min\n",
      "[CV] END svc__C=7183.212976608682, svc__gamma=0.1342610478162766, svc__kernel=rbf; total time= 1.4min\n",
      "[CV] END svc__C=7183.212976608682, svc__gamma=0.1342610478162766, svc__kernel=rbf; total time= 1.4min\n",
      "[CV] END svc__C=7183.212976608682, svc__gamma=0.1342610478162766, svc__kernel=rbf; total time= 1.4min\n",
      "[CV] END svc__C=855.0886273605761, svc__gamma=2.0060387699119175, svc__kernel=linear; total time= 1.3min\n",
      "[CV] END svc__C=855.0886273605761, svc__gamma=2.0060387699119175, svc__kernel=linear; total time= 1.3min\n",
      "[CV] END svc__C=855.0886273605761, svc__gamma=2.0060387699119175, svc__kernel=linear; total time= 1.3min\n",
      "[CV] END svc__C=855.0886273605761, svc__gamma=2.0060387699119175, svc__kernel=linear; total time= 1.3min\n",
      "[CV] END svc__C=855.0886273605761, svc__gamma=2.0060387699119175, svc__kernel=linear; total time= 1.3min\n",
      "[CV] END svc__C=320.1881436465375, svc__gamma=0.3779352128680615, svc__kernel=rbf; total time= 1.5min\n",
      "[CV] END svc__C=320.1881436465375, svc__gamma=0.3779352128680615, svc__kernel=rbf; total time= 1.5min\n",
      "[CV] END svc__C=320.1881436465375, svc__gamma=0.3779352128680615, svc__kernel=rbf; total time= 1.5min\n",
      "[CV] END svc__C=320.1881436465375, svc__gamma=0.3779352128680615, svc__kernel=rbf; total time= 1.5min\n",
      "[CV] END svc__C=320.1881436465375, svc__gamma=0.3779352128680615, svc__kernel=rbf; total time= 1.5min\n",
      "[CV] END svc__C=4925.038918006877, svc__gamma=1.5258820363088539, svc__kernel=rbf; total time= 2.5min\n",
      "[CV] END svc__C=4925.038918006877, svc__gamma=1.5258820363088539, svc__kernel=rbf; total time= 2.5min\n",
      "[CV] END svc__C=4925.038918006877, svc__gamma=1.5258820363088539, svc__kernel=rbf; total time= 2.5min\n",
      "[CV] END svc__C=4925.038918006877, svc__gamma=1.5258820363088539, svc__kernel=rbf; total time= 2.5min\n",
      "[CV] END svc__C=4925.038918006877, svc__gamma=1.5258820363088539, svc__kernel=rbf; total time= 2.5min\n"
     ]
    },
    {
     "data": {
      "text/plain": [
       "RandomizedSearchCV(cv=5,\n",
       "                   estimator=Pipeline(steps=[('word_filter',\n",
       "                                              WordFilter(words_to_remove={'\\n',\n",
       "                                                                          '!',\n",
       "                                                                          '\"',\n",
       "                                                                          '#',\n",
       "                                                                          '$',\n",
       "                                                                          '%',\n",
       "                                                                          '&',\n",
       "                                                                          \"'\",\n",
       "                                                                          '(',\n",
       "                                                                          ')',\n",
       "                                                                          '*',\n",
       "                                                                          '+',\n",
       "                                                                          ',',\n",
       "                                                                          '-',\n",
       "                                                                          '.',\n",
       "                                                                          '/',\n",
       "                                                                          ':',\n",
       "                                                                          ';',\n",
       "                                                                          '<',\n",
       "                                                                          '=',\n",
       "                                                                          '>',\n",
       "                                                                          '?',\n",
       "                                                                          '@',\n",
       "                                                                          '[',\n",
       "                                                                          '\\\\',\n",
       "                                                                          ']',\n",
       "                                                                          '^',\n",
       "                                                                          '_',\n",
       "                                                                          '`',\n",
       "                                                                          'a', ...})),\n",
       "                                             ('count_vectorizer',\n",
       "                                              CountVectorizer()),\n",
       "                                             ('tf-id', TfidfTransformer()),\n",
       "                                             ('svc', SVC(kernel='linear'))]),\n",
       "                   n_iter=20,\n",
       "                   param_distributions={'svc__C': <scipy.stats._distn_infrastructure.rv_frozen object at 0x0000016446492BB0>,\n",
       "                                        'svc__gamma': <scipy.stats._distn_infrastructure.rv_frozen object at 0x0000016445FB20A0>,\n",
       "                                        'svc__kernel': ['linear', 'rbf']},\n",
       "                   scoring='accuracy', verbose=2)"
      ]
     },
     "execution_count": 10,
     "metadata": {},
     "output_type": "execute_result"
    }
   ],
   "source": [
    "from sklearn.model_selection import RandomizedSearchCV\n",
    "from scipy.stats import reciprocal, expon\n",
    "\n",
    "param_dist = {\n",
    "    'svc__C': reciprocal(1, 20000),  # specify a continuous distribution\n",
    "    'svc__gamma': expon(scale=1),     # specify a continuous distribution\n",
    "    'svc__kernel': ['linear', 'rbf'],   # specify a discrete distribution\n",
    "}\n",
    "\n",
    "random_search = RandomizedSearchCV(vectorizer_pipeline, param_distributions=param_dist, n_iter=20, cv=5, scoring='accuracy',verbose=2)\n",
    "random_search.fit(x_train, y_train)"
   ]
  },
  {
   "cell_type": "code",
   "execution_count": 3,
   "id": "0af6940a",
   "metadata": {
    "scrolled": true
   },
   "outputs": [
    {
     "ename": "NameError",
     "evalue": "name 'random_search' is not defined",
     "output_type": "error",
     "traceback": [
      "\u001b[1;31m---------------------------------------------------------------------------\u001b[0m",
      "\u001b[1;31mNameError\u001b[0m                                 Traceback (most recent call last)",
      "\u001b[1;32m<ipython-input-3-c5d51bb9c910>\u001b[0m in \u001b[0;36m<module>\u001b[1;34m\u001b[0m\n\u001b[1;32m----> 1\u001b[1;33m \u001b[0mrandom_search\u001b[0m\u001b[1;33m.\u001b[0m\u001b[0mbest_score_\u001b[0m\u001b[1;33m\u001b[0m\u001b[1;33m\u001b[0m\u001b[0m\n\u001b[0m",
      "\u001b[1;31mNameError\u001b[0m: name 'random_search' is not defined"
     ]
    }
   ],
   "source": [
    "print(random_search.best_score_)\n",
    "print(random_search.best_params_)\n",
    "#best params{'svc__C': 15805.16646233074,\n",
    "# 'svc__gamma': 0.15813763277311954,\n",
    "# 'svc__kernel': 'rbf'}"
   ]
  },
  {
   "cell_type": "code",
   "execution_count": 20,
   "id": "806a66a9",
   "metadata": {},
   "outputs": [
    {
     "data": {
      "text/html": [
       "<style>#sk-container-id-3 {color: black;background-color: white;}#sk-container-id-3 pre{padding: 0;}#sk-container-id-3 div.sk-toggleable {background-color: white;}#sk-container-id-3 label.sk-toggleable__label {cursor: pointer;display: block;width: 100%;margin-bottom: 0;padding: 0.3em;box-sizing: border-box;text-align: center;}#sk-container-id-3 label.sk-toggleable__label-arrow:before {content: \"▸\";float: left;margin-right: 0.25em;color: #696969;}#sk-container-id-3 label.sk-toggleable__label-arrow:hover:before {color: black;}#sk-container-id-3 div.sk-estimator:hover label.sk-toggleable__label-arrow:before {color: black;}#sk-container-id-3 div.sk-toggleable__content {max-height: 0;max-width: 0;overflow: hidden;text-align: left;background-color: #f0f8ff;}#sk-container-id-3 div.sk-toggleable__content pre {margin: 0.2em;color: black;border-radius: 0.25em;background-color: #f0f8ff;}#sk-container-id-3 input.sk-toggleable__control:checked~div.sk-toggleable__content {max-height: 200px;max-width: 100%;overflow: auto;}#sk-container-id-3 input.sk-toggleable__control:checked~label.sk-toggleable__label-arrow:before {content: \"▾\";}#sk-container-id-3 div.sk-estimator input.sk-toggleable__control:checked~label.sk-toggleable__label {background-color: #d4ebff;}#sk-container-id-3 div.sk-label input.sk-toggleable__control:checked~label.sk-toggleable__label {background-color: #d4ebff;}#sk-container-id-3 input.sk-hidden--visually {border: 0;clip: rect(1px 1px 1px 1px);clip: rect(1px, 1px, 1px, 1px);height: 1px;margin: -1px;overflow: hidden;padding: 0;position: absolute;width: 1px;}#sk-container-id-3 div.sk-estimator {font-family: monospace;background-color: #f0f8ff;border: 1px dotted black;border-radius: 0.25em;box-sizing: border-box;margin-bottom: 0.5em;}#sk-container-id-3 div.sk-estimator:hover {background-color: #d4ebff;}#sk-container-id-3 div.sk-parallel-item::after {content: \"\";width: 100%;border-bottom: 1px solid gray;flex-grow: 1;}#sk-container-id-3 div.sk-label:hover label.sk-toggleable__label {background-color: #d4ebff;}#sk-container-id-3 div.sk-serial::before {content: \"\";position: absolute;border-left: 1px solid gray;box-sizing: border-box;top: 0;bottom: 0;left: 50%;z-index: 0;}#sk-container-id-3 div.sk-serial {display: flex;flex-direction: column;align-items: center;background-color: white;padding-right: 0.2em;padding-left: 0.2em;position: relative;}#sk-container-id-3 div.sk-item {position: relative;z-index: 1;}#sk-container-id-3 div.sk-parallel {display: flex;align-items: stretch;justify-content: center;background-color: white;position: relative;}#sk-container-id-3 div.sk-item::before, #sk-container-id-3 div.sk-parallel-item::before {content: \"\";position: absolute;border-left: 1px solid gray;box-sizing: border-box;top: 0;bottom: 0;left: 50%;z-index: -1;}#sk-container-id-3 div.sk-parallel-item {display: flex;flex-direction: column;z-index: 1;position: relative;background-color: white;}#sk-container-id-3 div.sk-parallel-item:first-child::after {align-self: flex-end;width: 50%;}#sk-container-id-3 div.sk-parallel-item:last-child::after {align-self: flex-start;width: 50%;}#sk-container-id-3 div.sk-parallel-item:only-child::after {width: 0;}#sk-container-id-3 div.sk-dashed-wrapped {border: 1px dashed gray;margin: 0 0.4em 0.5em 0.4em;box-sizing: border-box;padding-bottom: 0.4em;background-color: white;}#sk-container-id-3 div.sk-label label {font-family: monospace;font-weight: bold;display: inline-block;line-height: 1.2em;}#sk-container-id-3 div.sk-label-container {text-align: center;}#sk-container-id-3 div.sk-container {/* jupyter's `normalize.less` sets `[hidden] { display: none; }` but bootstrap.min.css set `[hidden] { display: none !important; }` so we also need the `!important` here to be able to override the default hidden behavior on the sphinx rendered scikit-learn.org. See: https://github.com/scikit-learn/scikit-learn/issues/21755 */display: inline-block !important;position: relative;}#sk-container-id-3 div.sk-text-repr-fallback {display: none;}</style><div id=\"sk-container-id-3\" class=\"sk-top-container\"><div class=\"sk-text-repr-fallback\"><pre>Pipeline(steps=[(&#x27;word_filter&#x27;,\n",
       "                 WordFilter(words_to_remove={&#x27;\\n&#x27;, &#x27;!&#x27;, &#x27;&quot;&#x27;, &#x27;#&#x27;, &#x27;$&#x27;, &#x27;%&#x27;, &#x27;&amp;&#x27;,\n",
       "                                             &quot;&#x27;&quot;, &#x27;(&#x27;, &#x27;)&#x27;, &#x27;*&#x27;, &#x27;+&#x27;, &#x27;,&#x27;, &#x27;-&#x27;,\n",
       "                                             &#x27;.&#x27;, &#x27;/&#x27;, &#x27;:&#x27;, &#x27;;&#x27;, &#x27;&lt;&#x27;, &#x27;=&#x27;, &#x27;&gt;&#x27;,\n",
       "                                             &#x27;?&#x27;, &#x27;@&#x27;, &#x27;[&#x27;, &#x27;\\\\&#x27;, &#x27;]&#x27;, &#x27;^&#x27;, &#x27;_&#x27;,\n",
       "                                             &#x27;`&#x27;, &#x27;a&#x27;, ...})),\n",
       "                (&#x27;count_vectorizer&#x27;, CountVectorizer()),\n",
       "                (&#x27;tf-id&#x27;, TfidfTransformer()),\n",
       "                (&#x27;svc&#x27;, SVC(C=15805.16646233074, gamma=0.15813763277311954))])</pre><b>In a Jupyter environment, please rerun this cell to show the HTML representation or trust the notebook. <br />On GitHub, the HTML representation is unable to render, please try loading this page with nbviewer.org.</b></div><div class=\"sk-container\" hidden><div class=\"sk-item sk-dashed-wrapped\"><div class=\"sk-label-container\"><div class=\"sk-label sk-toggleable\"><input class=\"sk-toggleable__control sk-hidden--visually\" id=\"sk-estimator-id-5\" type=\"checkbox\" ><label for=\"sk-estimator-id-5\" class=\"sk-toggleable__label sk-toggleable__label-arrow\">Pipeline</label><div class=\"sk-toggleable__content\"><pre>Pipeline(steps=[(&#x27;word_filter&#x27;,\n",
       "                 WordFilter(words_to_remove={&#x27;\\n&#x27;, &#x27;!&#x27;, &#x27;&quot;&#x27;, &#x27;#&#x27;, &#x27;$&#x27;, &#x27;%&#x27;, &#x27;&amp;&#x27;,\n",
       "                                             &quot;&#x27;&quot;, &#x27;(&#x27;, &#x27;)&#x27;, &#x27;*&#x27;, &#x27;+&#x27;, &#x27;,&#x27;, &#x27;-&#x27;,\n",
       "                                             &#x27;.&#x27;, &#x27;/&#x27;, &#x27;:&#x27;, &#x27;;&#x27;, &#x27;&lt;&#x27;, &#x27;=&#x27;, &#x27;&gt;&#x27;,\n",
       "                                             &#x27;?&#x27;, &#x27;@&#x27;, &#x27;[&#x27;, &#x27;\\\\&#x27;, &#x27;]&#x27;, &#x27;^&#x27;, &#x27;_&#x27;,\n",
       "                                             &#x27;`&#x27;, &#x27;a&#x27;, ...})),\n",
       "                (&#x27;count_vectorizer&#x27;, CountVectorizer()),\n",
       "                (&#x27;tf-id&#x27;, TfidfTransformer()),\n",
       "                (&#x27;svc&#x27;, SVC(C=15805.16646233074, gamma=0.15813763277311954))])</pre></div></div></div><div class=\"sk-serial\"><div class=\"sk-item\"><div class=\"sk-estimator sk-toggleable\"><input class=\"sk-toggleable__control sk-hidden--visually\" id=\"sk-estimator-id-6\" type=\"checkbox\" ><label for=\"sk-estimator-id-6\" class=\"sk-toggleable__label sk-toggleable__label-arrow\">WordFilter</label><div class=\"sk-toggleable__content\"><pre>WordFilter(words_to_remove={&#x27;\\n&#x27;, &#x27;!&#x27;, &#x27;&quot;&#x27;, &#x27;#&#x27;, &#x27;$&#x27;, &#x27;%&#x27;, &#x27;&amp;&#x27;, &quot;&#x27;&quot;, &#x27;(&#x27;, &#x27;)&#x27;,\n",
       "                            &#x27;*&#x27;, &#x27;+&#x27;, &#x27;,&#x27;, &#x27;-&#x27;, &#x27;.&#x27;, &#x27;/&#x27;, &#x27;:&#x27;, &#x27;;&#x27;, &#x27;&lt;&#x27;, &#x27;=&#x27;,\n",
       "                            &#x27;&gt;&#x27;, &#x27;?&#x27;, &#x27;@&#x27;, &#x27;[&#x27;, &#x27;\\\\&#x27;, &#x27;]&#x27;, &#x27;^&#x27;, &#x27;_&#x27;, &#x27;`&#x27;, &#x27;a&#x27;, ...})</pre></div></div></div><div class=\"sk-item\"><div class=\"sk-estimator sk-toggleable\"><input class=\"sk-toggleable__control sk-hidden--visually\" id=\"sk-estimator-id-7\" type=\"checkbox\" ><label for=\"sk-estimator-id-7\" class=\"sk-toggleable__label sk-toggleable__label-arrow\">CountVectorizer</label><div class=\"sk-toggleable__content\"><pre>CountVectorizer()</pre></div></div></div><div class=\"sk-item\"><div class=\"sk-estimator sk-toggleable\"><input class=\"sk-toggleable__control sk-hidden--visually\" id=\"sk-estimator-id-8\" type=\"checkbox\" ><label for=\"sk-estimator-id-8\" class=\"sk-toggleable__label sk-toggleable__label-arrow\">TfidfTransformer</label><div class=\"sk-toggleable__content\"><pre>TfidfTransformer()</pre></div></div></div><div class=\"sk-item\"><div class=\"sk-estimator sk-toggleable\"><input class=\"sk-toggleable__control sk-hidden--visually\" id=\"sk-estimator-id-9\" type=\"checkbox\" ><label for=\"sk-estimator-id-9\" class=\"sk-toggleable__label sk-toggleable__label-arrow\">SVC</label><div class=\"sk-toggleable__content\"><pre>SVC(C=15805.16646233074, gamma=0.15813763277311954)</pre></div></div></div></div></div></div></div>"
      ],
      "text/plain": [
       "Pipeline(steps=[('word_filter',\n",
       "                 WordFilter(words_to_remove={'\\n', '!', '\"', '#', '$', '%', '&',\n",
       "                                             \"'\", '(', ')', '*', '+', ',', '-',\n",
       "                                             '.', '/', ':', ';', '<', '=', '>',\n",
       "                                             '?', '@', '[', '\\\\', ']', '^', '_',\n",
       "                                             '`', 'a', ...})),\n",
       "                ('count_vectorizer', CountVectorizer()),\n",
       "                ('tf-id', TfidfTransformer()),\n",
       "                ('svc', SVC(C=15805.16646233074, gamma=0.15813763277311954))])"
      ]
     },
     "execution_count": 20,
     "metadata": {},
     "output_type": "execute_result"
    }
   ],
   "source": [
    "#trying the best parameters\n",
    "vectorizer_pipeline = Pipeline([\n",
    "    (\"word_filter\",WordFilter(words_to_remove=text_filter)),\n",
    "    (\"count_vectorizer\",CountVectorizer()),\n",
    "    (\"tf-id\",TfidfTransformer()),\n",
    "    (\"svc\",SVC(kernel='rbf', C=15805.16646233074, gamma=0.15813763277311954))\n",
    "])\n",
    "vectorizer_pipeline.fit(x_train,y_train)"
   ]
  },
  {
   "cell_type": "code",
   "execution_count": 21,
   "id": "65bf1345",
   "metadata": {},
   "outputs": [
    {
     "data": {
      "text/plain": [
       "0.995638789122627"
      ]
     },
     "execution_count": 21,
     "metadata": {},
     "output_type": "execute_result"
    }
   ],
   "source": [
    "y_pred = vectorizer_pipeline.predict(x_test)\n",
    "accuracy = accuracy_score(y_test,y_pred)\n",
    "my_list = y_pred.tolist()\n",
    "frequency = {item: my_list.count(item) for item in my_list}\n",
    "accuracy"
   ]
  },
  {
   "cell_type": "markdown",
   "id": "9ac61550-4388-48f4-9a8e-1cafbabd70d4",
   "metadata": {},
   "source": [
    "# Document embeddings"
   ]
  },
  {
   "cell_type": "code",
   "execution_count": 9,
   "id": "f1a513d9",
   "metadata": {},
   "outputs": [],
   "source": [
    "from gensim.models import Doc2Vec\n",
    "from gensim.models.doc2vec import TaggedDocument\n",
    "\n",
    "tagged_x_train = [TaggedDocument(words=text.split(), tags=[str(i)]) for i, text in enumerate(x_train)]\n",
    "MODEL_PATH = os.path.join(MODEL_PATH, \"model\")\n",
    "doc2vec_model = Doc2Vec(tagged_x_train, vector_size=100, window=5, min_count=1, workers=4)\n",
    "doc2vec_model.save(MODEL_PATH)"
   ]
  },
  {
   "cell_type": "code",
   "execution_count": 10,
   "id": "3dc72210",
   "metadata": {},
   "outputs": [],
   "source": [
    "from gensim.models import Doc2Vec\n",
    "class DocEmbeddings(BaseEstimator, TransformerMixin):\n",
    "    def __init__(self, doc2vec_model):\n",
    "        self.doc2vec_model = doc2vec_model\n",
    "    \n",
    "    def fit(self, X, y=None):\n",
    "        return self\n",
    "    \n",
    "    def transform(self, X):\n",
    "        embedded_docs = []\n",
    "        for doc in X:            \n",
    "            embedded_doc = self.doc2vec_model.infer_vector(doc.split())\n",
    "            embedded_docs.append(embedded_doc)\n",
    "        return embedded_docs\n",
    "\n",
    "doc2vec_model = Doc2Vec.load(MODEL_PATH)\n",
    "    \n",
    "    \n",
    "embedding_pipeline = Pipeline([\n",
    "    (\"word_filter\",WordFilter(words_to_remove=text_filter)),\n",
    "    (\"doc_embeddings\", DocEmbeddings(doc2vec_model)),\n",
    "    (\"svc\",SVC(kernel='linear', C=1, verbose =True))\n",
    "])    "
   ]
  },
  {
   "cell_type": "code",
   "execution_count": 20,
   "id": "9329f6f6",
   "metadata": {},
   "outputs": [
    {
     "data": {
      "text/html": [
       "<style>#sk-container-id-2 {color: black;background-color: white;}#sk-container-id-2 pre{padding: 0;}#sk-container-id-2 div.sk-toggleable {background-color: white;}#sk-container-id-2 label.sk-toggleable__label {cursor: pointer;display: block;width: 100%;margin-bottom: 0;padding: 0.3em;box-sizing: border-box;text-align: center;}#sk-container-id-2 label.sk-toggleable__label-arrow:before {content: \"▸\";float: left;margin-right: 0.25em;color: #696969;}#sk-container-id-2 label.sk-toggleable__label-arrow:hover:before {color: black;}#sk-container-id-2 div.sk-estimator:hover label.sk-toggleable__label-arrow:before {color: black;}#sk-container-id-2 div.sk-toggleable__content {max-height: 0;max-width: 0;overflow: hidden;text-align: left;background-color: #f0f8ff;}#sk-container-id-2 div.sk-toggleable__content pre {margin: 0.2em;color: black;border-radius: 0.25em;background-color: #f0f8ff;}#sk-container-id-2 input.sk-toggleable__control:checked~div.sk-toggleable__content {max-height: 200px;max-width: 100%;overflow: auto;}#sk-container-id-2 input.sk-toggleable__control:checked~label.sk-toggleable__label-arrow:before {content: \"▾\";}#sk-container-id-2 div.sk-estimator input.sk-toggleable__control:checked~label.sk-toggleable__label {background-color: #d4ebff;}#sk-container-id-2 div.sk-label input.sk-toggleable__control:checked~label.sk-toggleable__label {background-color: #d4ebff;}#sk-container-id-2 input.sk-hidden--visually {border: 0;clip: rect(1px 1px 1px 1px);clip: rect(1px, 1px, 1px, 1px);height: 1px;margin: -1px;overflow: hidden;padding: 0;position: absolute;width: 1px;}#sk-container-id-2 div.sk-estimator {font-family: monospace;background-color: #f0f8ff;border: 1px dotted black;border-radius: 0.25em;box-sizing: border-box;margin-bottom: 0.5em;}#sk-container-id-2 div.sk-estimator:hover {background-color: #d4ebff;}#sk-container-id-2 div.sk-parallel-item::after {content: \"\";width: 100%;border-bottom: 1px solid gray;flex-grow: 1;}#sk-container-id-2 div.sk-label:hover label.sk-toggleable__label {background-color: #d4ebff;}#sk-container-id-2 div.sk-serial::before {content: \"\";position: absolute;border-left: 1px solid gray;box-sizing: border-box;top: 0;bottom: 0;left: 50%;z-index: 0;}#sk-container-id-2 div.sk-serial {display: flex;flex-direction: column;align-items: center;background-color: white;padding-right: 0.2em;padding-left: 0.2em;position: relative;}#sk-container-id-2 div.sk-item {position: relative;z-index: 1;}#sk-container-id-2 div.sk-parallel {display: flex;align-items: stretch;justify-content: center;background-color: white;position: relative;}#sk-container-id-2 div.sk-item::before, #sk-container-id-2 div.sk-parallel-item::before {content: \"\";position: absolute;border-left: 1px solid gray;box-sizing: border-box;top: 0;bottom: 0;left: 50%;z-index: -1;}#sk-container-id-2 div.sk-parallel-item {display: flex;flex-direction: column;z-index: 1;position: relative;background-color: white;}#sk-container-id-2 div.sk-parallel-item:first-child::after {align-self: flex-end;width: 50%;}#sk-container-id-2 div.sk-parallel-item:last-child::after {align-self: flex-start;width: 50%;}#sk-container-id-2 div.sk-parallel-item:only-child::after {width: 0;}#sk-container-id-2 div.sk-dashed-wrapped {border: 1px dashed gray;margin: 0 0.4em 0.5em 0.4em;box-sizing: border-box;padding-bottom: 0.4em;background-color: white;}#sk-container-id-2 div.sk-label label {font-family: monospace;font-weight: bold;display: inline-block;line-height: 1.2em;}#sk-container-id-2 div.sk-label-container {text-align: center;}#sk-container-id-2 div.sk-container {/* jupyter's `normalize.less` sets `[hidden] { display: none; }` but bootstrap.min.css set `[hidden] { display: none !important; }` so we also need the `!important` here to be able to override the default hidden behavior on the sphinx rendered scikit-learn.org. See: https://github.com/scikit-learn/scikit-learn/issues/21755 */display: inline-block !important;position: relative;}#sk-container-id-2 div.sk-text-repr-fallback {display: none;}</style><div id=\"sk-container-id-2\" class=\"sk-top-container\"><div class=\"sk-text-repr-fallback\"><pre>Pipeline(steps=[(&#x27;word_filter&#x27;,\n",
       "                 WordFilter(words_to_remove={&#x27;\\n&#x27;, &#x27;!&#x27;, &#x27;&quot;&#x27;, &#x27;#&#x27;, &#x27;$&#x27;, &#x27;%&#x27;, &#x27;&amp;&#x27;,\n",
       "                                             &quot;&#x27;&quot;, &#x27;(&#x27;, &#x27;)&#x27;, &#x27;*&#x27;, &#x27;+&#x27;, &#x27;,&#x27;, &#x27;-&#x27;,\n",
       "                                             &#x27;.&#x27;, &#x27;/&#x27;, &#x27;:&#x27;, &#x27;;&#x27;, &#x27;&lt;&#x27;, &#x27;=&#x27;, &#x27;&gt;&#x27;,\n",
       "                                             &#x27;?&#x27;, &#x27;@&#x27;, &#x27;[&#x27;, &#x27;\\\\&#x27;, &#x27;]&#x27;, &#x27;^&#x27;, &#x27;_&#x27;,\n",
       "                                             &#x27;`&#x27;, &#x27;a&#x27;, ...})),\n",
       "                (&#x27;doc_embeddings&#x27;,\n",
       "                 DocEmbeddings(doc2vec_model=&lt;gensim.models.doc2vec.Doc2Vec object at 0x000001E0CD27E090&gt;)),\n",
       "                (&#x27;svc&#x27;, SVC(C=1, kernel=&#x27;linear&#x27;))])</pre><b>In a Jupyter environment, please rerun this cell to show the HTML representation or trust the notebook. <br />On GitHub, the HTML representation is unable to render, please try loading this page with nbviewer.org.</b></div><div class=\"sk-container\" hidden><div class=\"sk-item sk-dashed-wrapped\"><div class=\"sk-label-container\"><div class=\"sk-label sk-toggleable\"><input class=\"sk-toggleable__control sk-hidden--visually\" id=\"sk-estimator-id-6\" type=\"checkbox\" ><label for=\"sk-estimator-id-6\" class=\"sk-toggleable__label sk-toggleable__label-arrow\">Pipeline</label><div class=\"sk-toggleable__content\"><pre>Pipeline(steps=[(&#x27;word_filter&#x27;,\n",
       "                 WordFilter(words_to_remove={&#x27;\\n&#x27;, &#x27;!&#x27;, &#x27;&quot;&#x27;, &#x27;#&#x27;, &#x27;$&#x27;, &#x27;%&#x27;, &#x27;&amp;&#x27;,\n",
       "                                             &quot;&#x27;&quot;, &#x27;(&#x27;, &#x27;)&#x27;, &#x27;*&#x27;, &#x27;+&#x27;, &#x27;,&#x27;, &#x27;-&#x27;,\n",
       "                                             &#x27;.&#x27;, &#x27;/&#x27;, &#x27;:&#x27;, &#x27;;&#x27;, &#x27;&lt;&#x27;, &#x27;=&#x27;, &#x27;&gt;&#x27;,\n",
       "                                             &#x27;?&#x27;, &#x27;@&#x27;, &#x27;[&#x27;, &#x27;\\\\&#x27;, &#x27;]&#x27;, &#x27;^&#x27;, &#x27;_&#x27;,\n",
       "                                             &#x27;`&#x27;, &#x27;a&#x27;, ...})),\n",
       "                (&#x27;doc_embeddings&#x27;,\n",
       "                 DocEmbeddings(doc2vec_model=&lt;gensim.models.doc2vec.Doc2Vec object at 0x000001E0CD27E090&gt;)),\n",
       "                (&#x27;svc&#x27;, SVC(C=1, kernel=&#x27;linear&#x27;))])</pre></div></div></div><div class=\"sk-serial\"><div class=\"sk-item\"><div class=\"sk-estimator sk-toggleable\"><input class=\"sk-toggleable__control sk-hidden--visually\" id=\"sk-estimator-id-7\" type=\"checkbox\" ><label for=\"sk-estimator-id-7\" class=\"sk-toggleable__label sk-toggleable__label-arrow\">WordFilter</label><div class=\"sk-toggleable__content\"><pre>WordFilter(words_to_remove={&#x27;\\n&#x27;, &#x27;!&#x27;, &#x27;&quot;&#x27;, &#x27;#&#x27;, &#x27;$&#x27;, &#x27;%&#x27;, &#x27;&amp;&#x27;, &quot;&#x27;&quot;, &#x27;(&#x27;, &#x27;)&#x27;,\n",
       "                            &#x27;*&#x27;, &#x27;+&#x27;, &#x27;,&#x27;, &#x27;-&#x27;, &#x27;.&#x27;, &#x27;/&#x27;, &#x27;:&#x27;, &#x27;;&#x27;, &#x27;&lt;&#x27;, &#x27;=&#x27;,\n",
       "                            &#x27;&gt;&#x27;, &#x27;?&#x27;, &#x27;@&#x27;, &#x27;[&#x27;, &#x27;\\\\&#x27;, &#x27;]&#x27;, &#x27;^&#x27;, &#x27;_&#x27;, &#x27;`&#x27;, &#x27;a&#x27;, ...})</pre></div></div></div><div class=\"sk-item\"><div class=\"sk-estimator sk-toggleable\"><input class=\"sk-toggleable__control sk-hidden--visually\" id=\"sk-estimator-id-8\" type=\"checkbox\" ><label for=\"sk-estimator-id-8\" class=\"sk-toggleable__label sk-toggleable__label-arrow\">DocEmbeddings</label><div class=\"sk-toggleable__content\"><pre>DocEmbeddings(doc2vec_model=&lt;gensim.models.doc2vec.Doc2Vec object at 0x000001E0CD27E090&gt;)</pre></div></div></div><div class=\"sk-item\"><div class=\"sk-estimator sk-toggleable\"><input class=\"sk-toggleable__control sk-hidden--visually\" id=\"sk-estimator-id-9\" type=\"checkbox\" ><label for=\"sk-estimator-id-9\" class=\"sk-toggleable__label sk-toggleable__label-arrow\">SVC</label><div class=\"sk-toggleable__content\"><pre>SVC(C=1, kernel=&#x27;linear&#x27;)</pre></div></div></div></div></div></div></div>"
      ],
      "text/plain": [
       "Pipeline(steps=[('word_filter',\n",
       "                 WordFilter(words_to_remove={'\\n', '!', '\"', '#', '$', '%', '&',\n",
       "                                             \"'\", '(', ')', '*', '+', ',', '-',\n",
       "                                             '.', '/', ':', ';', '<', '=', '>',\n",
       "                                             '?', '@', '[', '\\\\', ']', '^', '_',\n",
       "                                             '`', 'a', ...})),\n",
       "                ('doc_embeddings',\n",
       "                 DocEmbeddings(doc2vec_model=<gensim.models.doc2vec.Doc2Vec object at 0x000001E0CD27E090>)),\n",
       "                ('svc', SVC(C=1, kernel='linear'))])"
      ]
     },
     "execution_count": 20,
     "metadata": {},
     "output_type": "execute_result"
    }
   ],
   "source": [
    "embedding_pipeline.fit(x_train,y_train)"
   ]
  },
  {
   "cell_type": "code",
   "execution_count": 19,
   "id": "8740b19a",
   "metadata": {},
   "outputs": [
    {
     "data": {
      "text/plain": [
       "0.9853771164699846"
      ]
     },
     "execution_count": 19,
     "metadata": {},
     "output_type": "execute_result"
    }
   ],
   "source": [
    "y_pred = embedding_pipeline.predict(x_test)\n",
    "accuracy = accuracy_score(y_test,y_pred)\n",
    "my_list = y_pred.tolist()\n",
    "frequency = {item: my_list.count(item) for item in my_list}\n",
    "accuracy"
   ]
  },
  {
   "cell_type": "markdown",
   "id": "6e597cf6-1659-42b7-b0c2-d93c537f42e2",
   "metadata": {},
   "source": [
    "# Comparing embeddings vs vectorization"
   ]
  },
  {
   "cell_type": "code",
   "execution_count": 21,
   "id": "0cd8180c",
   "metadata": {},
   "outputs": [
    {
     "name": "stdout",
     "output_type": "stream",
     "text": [
      "Pipeline 1 Metrics:\n",
      "              precision    recall  f1-score   support\n",
      "\n",
      "         0.0       1.00      1.00      1.00      3199\n",
      "         1.0       0.99      0.98      0.98       699\n",
      "\n",
      "    accuracy                           0.99      3898\n",
      "   macro avg       0.99      0.99      0.99      3898\n",
      "weighted avg       0.99      0.99      0.99      3898\n",
      "\n",
      "Pipeline 2 Metrics:\n",
      "              precision    recall  f1-score   support\n",
      "\n",
      "         0.0       0.99      0.99      0.99      3199\n",
      "         1.0       0.94      0.93      0.94       699\n",
      "\n",
      "    accuracy                           0.98      3898\n",
      "   macro avg       0.96      0.96      0.96      3898\n",
      "weighted avg       0.98      0.98      0.98      3898\n",
      "\n",
      "ROC-AUC Score for Pipeline 1: 0.9878636966755974\n",
      "ROC-AUC Score for Pipeline 2: 0.9594132823159597\n",
      "Cross-Validation Scores for Pipeline 1: [0.99551138 0.99422892 0.99326491 0.99422707 0.99615138]\n",
      "Average Accuracy for Pipeline 1: 0.9946767325015152\n",
      "Cross-Validation Scores for Pipeline 2: [0.97435075 0.97403014 0.97177678 0.97402181 0.97113534]\n",
      "Average Accuracy for Pipeline 2: 0.973062964663803\n"
     ]
    }
   ],
   "source": [
    "from sklearn.metrics import classification_report, roc_auc_score\n",
    "from sklearn.model_selection import cross_val_score\n",
    "\n",
    "# Evaluate the first pipeline\n",
    "y_pred1 = vectorizer_pipeline.predict(x_test)\n",
    "print(\"Pipeline 1 Metrics:\")\n",
    "print(classification_report(y_test, y_pred1))\n",
    "roc_auc1 = roc_auc_score(y_test, y_pred1)\n",
    "\n",
    "# Evaluate the second pipeline\n",
    "y_pred2 = embedding_pipeline.predict(x_test)\n",
    "print(\"Pipeline 2 Metrics:\")\n",
    "print(classification_report(y_test, y_pred2))\n",
    "roc_auc2 = roc_auc_score(y_test, y_pred2)\n",
    "\n",
    "print(\"ROC-AUC Score for Pipeline 1:\", roc_auc1)\n",
    "print(\"ROC-AUC Score for Pipeline 2:\", roc_auc2)\n",
    "\n",
    "# Perform cross-validation for Pipeline 1\n",
    "cv_scores1 = cross_val_score(vectorizer_pipeline, x_train, y_train, cv=5, scoring='accuracy')\n",
    "\n",
    "# Perform cross-validation for Pipeline 2\n",
    "cv_scores2 = cross_val_score(embedding_pipeline, x_train, y_train, cv=5, scoring='accuracy')\n",
    "\n",
    "print(\"Cross-Validation Scores for Pipeline 1:\", cv_scores1)\n",
    "print(\"Average Accuracy for Pipeline 1:\", cv_scores1.mean())\n",
    "\n",
    "print(\"Cross-Validation Scores for Pipeline 2:\", cv_scores2)\n",
    "print(\"Average Accuracy for Pipeline 2:\", cv_scores2.mean())\n",
    "\n"
   ]
  },
  {
   "cell_type": "code",
   "execution_count": 9,
   "id": "f83256e8",
   "metadata": {},
   "outputs": [],
   "source": [
    "from sklearn.model_selection import learning_curve\n",
    "\n",
    "def plot_learning_curve(estimator, title, X, y, ylim=None, cv=None, n_jobs=None, train_sizes=np.linspace(.1, 1.0, 5)):\n",
    "    plt.figure()\n",
    "    plt.title(title)\n",
    "    if ylim is not None:\n",
    "        plt.ylim(*ylim)\n",
    "    plt.xlabel(\"Training examples\")\n",
    "    plt.ylabel(\"Score\")\n",
    "    train_sizes, train_scores, test_scores = learning_curve(estimator, X, y, cv=cv, n_jobs=n_jobs, train_sizes=train_sizes)\n",
    "    train_scores_mean = np.mean(train_scores, axis=1)\n",
    "    train_scores_std = np.std(train_scores, axis=1)\n",
    "    test_scores_mean = np.mean(test_scores, axis=1)\n",
    "    test_scores_std = np.std(test_scores, axis=1)\n",
    "    plt.grid()\n",
    "\n",
    "    plt.fill_between(train_sizes, train_scores_mean - train_scores_std, train_scores_mean + train_scores_std, alpha=0.1, color=\"r\")\n",
    "    plt.fill_between(train_sizes, test_scores_mean - test_scores_std, test_scores_mean + test_scores_std, alpha=0.1, color=\"g\")\n",
    "    plt.plot(train_sizes, train_scores_mean, 'o-', color=\"r\", label=\"Training score\")\n",
    "    plt.plot(train_sizes, test_scores_mean, 'o-', color=\"g\", label=\"Cross-validation score\")\n",
    "\n",
    "    plt.legend(loc=\"best\")\n",
    "    return plt\n",
    "\n"
   ]
  },
  {
   "cell_type": "code",
   "execution_count": 13,
   "id": "a455848e",
   "metadata": {},
   "outputs": [
    {
     "data": {
      "image/png": "[encoded data removed]",
      "text/plain": [
       "<Figure size 640x480 with 1 Axes>"
      ]
     },
     "metadata": {},
     "output_type": "display_data"
    },
    {
     "data": {
      "image/png": "[encoded data removed]",
      "text/plain": [
       "<Figure size 640x480 with 1 Axes>"
      ]
     },
     "metadata": {},
     "output_type": "display_data"
    }
   ],
   "source": [
    "# Plot learning curves for both pipelines\n",
    "plot_learning_curve(vectorizer_pipeline, \"Learning Curve (Pipeline 1)\", x_train, y_train, cv=5)\n",
    "plt.show()\n",
    "\n",
    "plot_learning_curve(embedding_pipeline, \"Learning Curve (Pipeline 2)\", x_train, y_train, cv=5)\n",
    "plt.show()"
   ]
  },
  {
   "cell_type": "markdown",
   "id": "43aefa74-dbb2-46ba-acc5-8031b01fb9fa",
   "metadata": {},
   "source": [
    "# Training vectorization on 80% of the whole data"
   ]
  },
  {
   "cell_type": "code",
   "execution_count": 10,
   "id": "8329fb22-f6ee-4186-b8cc-96bd904a7ba0",
   "metadata": {},
   "outputs": [],
   "source": [
    "StratifiedSplit = StratifiedShuffleSplit(n_splits=1, test_size=0.2, random_state=42)\n",
    "split_index = list(StratifiedSplit.split(x,y))\n",
    "final_train_index,final_test_index = split_index[0]\n",
    "\n",
    "x_final_train,x_final_test = x[final_train_index], x[final_test_index]\n",
    "y_final_train,y_final_test = y[final_train_index], y[final_test_index]"
   ]
  },
  {
   "cell_type": "code",
   "execution_count": 11,
   "id": "b8b4ee48-94ba-428c-9158-862025ec9862",
   "metadata": {},
   "outputs": [
    {
     "name": "stdout",
     "output_type": "stream",
     "text": [
      "[LibSVM]"
     ]
    },
    {
     "data": {
      "text/html": [
       "<style>#sk-container-id-1 {color: black;background-color: white;}#sk-container-id-1 pre{padding: 0;}#sk-container-id-1 div.sk-toggleable {background-color: white;}#sk-container-id-1 label.sk-toggleable__label {cursor: pointer;display: block;width: 100%;margin-bottom: 0;padding: 0.3em;box-sizing: border-box;text-align: center;}#sk-container-id-1 label.sk-toggleable__label-arrow:before {content: \"▸\";float: left;margin-right: 0.25em;color: #696969;}#sk-container-id-1 label.sk-toggleable__label-arrow:hover:before {color: black;}#sk-container-id-1 div.sk-estimator:hover label.sk-toggleable__label-arrow:before {color: black;}#sk-container-id-1 div.sk-toggleable__content {max-height: 0;max-width: 0;overflow: hidden;text-align: left;background-color: #f0f8ff;}#sk-container-id-1 div.sk-toggleable__content pre {margin: 0.2em;color: black;border-radius: 0.25em;background-color: #f0f8ff;}#sk-container-id-1 input.sk-toggleable__control:checked~div.sk-toggleable__content {max-height: 200px;max-width: 100%;overflow: auto;}#sk-container-id-1 input.sk-toggleable__control:checked~label.sk-toggleable__label-arrow:before {content: \"▾\";}#sk-container-id-1 div.sk-estimator input.sk-toggleable__control:checked~label.sk-toggleable__label {background-color: #d4ebff;}#sk-container-id-1 div.sk-label input.sk-toggleable__control:checked~label.sk-toggleable__label {background-color: #d4ebff;}#sk-container-id-1 input.sk-hidden--visually {border: 0;clip: rect(1px 1px 1px 1px);clip: rect(1px, 1px, 1px, 1px);height: 1px;margin: -1px;overflow: hidden;padding: 0;position: absolute;width: 1px;}#sk-container-id-1 div.sk-estimator {font-family: monospace;background-color: #f0f8ff;border: 1px dotted black;border-radius: 0.25em;box-sizing: border-box;margin-bottom: 0.5em;}#sk-container-id-1 div.sk-estimator:hover {background-color: #d4ebff;}#sk-container-id-1 div.sk-parallel-item::after {content: \"\";width: 100%;border-bottom: 1px solid gray;flex-grow: 1;}#sk-container-id-1 div.sk-label:hover label.sk-toggleable__label {background-color: #d4ebff;}#sk-container-id-1 div.sk-serial::before {content: \"\";position: absolute;border-left: 1px solid gray;box-sizing: border-box;top: 0;bottom: 0;left: 50%;z-index: 0;}#sk-container-id-1 div.sk-serial {display: flex;flex-direction: column;align-items: center;background-color: white;padding-right: 0.2em;padding-left: 0.2em;position: relative;}#sk-container-id-1 div.sk-item {position: relative;z-index: 1;}#sk-container-id-1 div.sk-parallel {display: flex;align-items: stretch;justify-content: center;background-color: white;position: relative;}#sk-container-id-1 div.sk-item::before, #sk-container-id-1 div.sk-parallel-item::before {content: \"\";position: absolute;border-left: 1px solid gray;box-sizing: border-box;top: 0;bottom: 0;left: 50%;z-index: -1;}#sk-container-id-1 div.sk-parallel-item {display: flex;flex-direction: column;z-index: 1;position: relative;background-color: white;}#sk-container-id-1 div.sk-parallel-item:first-child::after {align-self: flex-end;width: 50%;}#sk-container-id-1 div.sk-parallel-item:last-child::after {align-self: flex-start;width: 50%;}#sk-container-id-1 div.sk-parallel-item:only-child::after {width: 0;}#sk-container-id-1 div.sk-dashed-wrapped {border: 1px dashed gray;margin: 0 0.4em 0.5em 0.4em;box-sizing: border-box;padding-bottom: 0.4em;background-color: white;}#sk-container-id-1 div.sk-label label {font-family: monospace;font-weight: bold;display: inline-block;line-height: 1.2em;}#sk-container-id-1 div.sk-label-container {text-align: center;}#sk-container-id-1 div.sk-container {/* jupyter's `normalize.less` sets `[hidden] { display: none; }` but bootstrap.min.css set `[hidden] { display: none !important; }` so we also need the `!important` here to be able to override the default hidden behavior on the sphinx rendered scikit-learn.org. See: https://github.com/scikit-learn/scikit-learn/issues/21755 */display: inline-block !important;position: relative;}#sk-container-id-1 div.sk-text-repr-fallback {display: none;}</style><div id=\"sk-container-id-1\" class=\"sk-top-container\"><div class=\"sk-text-repr-fallback\"><pre>Pipeline(steps=[(&#x27;word_filter&#x27;,\n",
       "                 WordFilter(words_to_remove={&#x27;\\n&#x27;, &#x27;!&#x27;, &#x27;&quot;&#x27;, &#x27;#&#x27;, &#x27;$&#x27;, &#x27;%&#x27;, &#x27;&amp;&#x27;,\n",
       "                                             &quot;&#x27;&quot;, &#x27;(&#x27;, &#x27;)&#x27;, &#x27;*&#x27;, &#x27;+&#x27;, &#x27;,&#x27;, &#x27;-&#x27;,\n",
       "                                             &#x27;.&#x27;, &#x27;/&#x27;, &#x27;:&#x27;, &#x27;;&#x27;, &#x27;&lt;&#x27;, &#x27;=&#x27;, &#x27;&gt;&#x27;,\n",
       "                                             &#x27;?&#x27;, &#x27;@&#x27;, &#x27;[&#x27;, &#x27;\\\\&#x27;, &#x27;]&#x27;, &#x27;^&#x27;, &#x27;_&#x27;,\n",
       "                                             &#x27;`&#x27;, &#x27;a&#x27;, ...})),\n",
       "                (&#x27;count_vectorizer&#x27;, CountVectorizer()),\n",
       "                (&#x27;tf-id&#x27;, TfidfTransformer()),\n",
       "                (&#x27;svc&#x27;, SVC(kernel=&#x27;linear&#x27;, verbose=True))])</pre><b>In a Jupyter environment, please rerun this cell to show the HTML representation or trust the notebook. <br />On GitHub, the HTML representation is unable to render, please try loading this page with nbviewer.org.</b></div><div class=\"sk-container\" hidden><div class=\"sk-item sk-dashed-wrapped\"><div class=\"sk-label-container\"><div class=\"sk-label sk-toggleable\"><input class=\"sk-toggleable__control sk-hidden--visually\" id=\"sk-estimator-id-1\" type=\"checkbox\" ><label for=\"sk-estimator-id-1\" class=\"sk-toggleable__label sk-toggleable__label-arrow\">Pipeline</label><div class=\"sk-toggleable__content\"><pre>Pipeline(steps=[(&#x27;word_filter&#x27;,\n",
       "                 WordFilter(words_to_remove={&#x27;\\n&#x27;, &#x27;!&#x27;, &#x27;&quot;&#x27;, &#x27;#&#x27;, &#x27;$&#x27;, &#x27;%&#x27;, &#x27;&amp;&#x27;,\n",
       "                                             &quot;&#x27;&quot;, &#x27;(&#x27;, &#x27;)&#x27;, &#x27;*&#x27;, &#x27;+&#x27;, &#x27;,&#x27;, &#x27;-&#x27;,\n",
       "                                             &#x27;.&#x27;, &#x27;/&#x27;, &#x27;:&#x27;, &#x27;;&#x27;, &#x27;&lt;&#x27;, &#x27;=&#x27;, &#x27;&gt;&#x27;,\n",
       "                                             &#x27;?&#x27;, &#x27;@&#x27;, &#x27;[&#x27;, &#x27;\\\\&#x27;, &#x27;]&#x27;, &#x27;^&#x27;, &#x27;_&#x27;,\n",
       "                                             &#x27;`&#x27;, &#x27;a&#x27;, ...})),\n",
       "                (&#x27;count_vectorizer&#x27;, CountVectorizer()),\n",
       "                (&#x27;tf-id&#x27;, TfidfTransformer()),\n",
       "                (&#x27;svc&#x27;, SVC(kernel=&#x27;linear&#x27;, verbose=True))])</pre></div></div></div><div class=\"sk-serial\"><div class=\"sk-item\"><div class=\"sk-estimator sk-toggleable\"><input class=\"sk-toggleable__control sk-hidden--visually\" id=\"sk-estimator-id-2\" type=\"checkbox\" ><label for=\"sk-estimator-id-2\" class=\"sk-toggleable__label sk-toggleable__label-arrow\">WordFilter</label><div class=\"sk-toggleable__content\"><pre>WordFilter(words_to_remove={&#x27;\\n&#x27;, &#x27;!&#x27;, &#x27;&quot;&#x27;, &#x27;#&#x27;, &#x27;$&#x27;, &#x27;%&#x27;, &#x27;&amp;&#x27;, &quot;&#x27;&quot;, &#x27;(&#x27;, &#x27;)&#x27;,\n",
       "                            &#x27;*&#x27;, &#x27;+&#x27;, &#x27;,&#x27;, &#x27;-&#x27;, &#x27;.&#x27;, &#x27;/&#x27;, &#x27;:&#x27;, &#x27;;&#x27;, &#x27;&lt;&#x27;, &#x27;=&#x27;,\n",
       "                            &#x27;&gt;&#x27;, &#x27;?&#x27;, &#x27;@&#x27;, &#x27;[&#x27;, &#x27;\\\\&#x27;, &#x27;]&#x27;, &#x27;^&#x27;, &#x27;_&#x27;, &#x27;`&#x27;, &#x27;a&#x27;, ...})</pre></div></div></div><div class=\"sk-item\"><div class=\"sk-estimator sk-toggleable\"><input class=\"sk-toggleable__control sk-hidden--visually\" id=\"sk-estimator-id-3\" type=\"checkbox\" ><label for=\"sk-estimator-id-3\" class=\"sk-toggleable__label sk-toggleable__label-arrow\">CountVectorizer</label><div class=\"sk-toggleable__content\"><pre>CountVectorizer()</pre></div></div></div><div class=\"sk-item\"><div class=\"sk-estimator sk-toggleable\"><input class=\"sk-toggleable__control sk-hidden--visually\" id=\"sk-estimator-id-4\" type=\"checkbox\" ><label for=\"sk-estimator-id-4\" class=\"sk-toggleable__label sk-toggleable__label-arrow\">TfidfTransformer</label><div class=\"sk-toggleable__content\"><pre>TfidfTransformer()</pre></div></div></div><div class=\"sk-item\"><div class=\"sk-estimator sk-toggleable\"><input class=\"sk-toggleable__control sk-hidden--visually\" id=\"sk-estimator-id-5\" type=\"checkbox\" ><label for=\"sk-estimator-id-5\" class=\"sk-toggleable__label sk-toggleable__label-arrow\">SVC</label><div class=\"sk-toggleable__content\"><pre>SVC(kernel=&#x27;linear&#x27;, verbose=True)</pre></div></div></div></div></div></div></div>"
      ],
      "text/plain": [
       "Pipeline(steps=[('word_filter',\n",
       "                 WordFilter(words_to_remove={'\\n', '!', '\"', '#', '$', '%', '&',\n",
       "                                             \"'\", '(', ')', '*', '+', ',', '-',\n",
       "                                             '.', '/', ':', ';', '<', '=', '>',\n",
       "                                             '?', '@', '[', '\\\\', ']', '^', '_',\n",
       "                                             '`', 'a', ...})),\n",
       "                ('count_vectorizer', CountVectorizer()),\n",
       "                ('tf-id', TfidfTransformer()),\n",
       "                ('svc', SVC(kernel='linear', verbose=True))])"
      ]
     },
     "execution_count": 11,
     "metadata": {},
     "output_type": "execute_result"
    }
   ],
   "source": [
    "vectorizer_pipeline.fit(x_final_train,y_final_train)"
   ]
  },
  {
   "cell_type": "code",
   "execution_count": 12,
   "id": "c5527d60",
   "metadata": {},
   "outputs": [
    {
     "name": "stdout",
     "output_type": "stream",
     "text": [
      "vectorizer_pipeline:\n",
      "              precision    recall  f1-score   support\n",
      "\n",
      "         0.0       1.00      1.00      1.00     61159\n",
      "         1.0       1.00      0.99      1.00     36288\n",
      "\n",
      "    accuracy                           1.00     97447\n",
      "   macro avg       1.00      1.00      1.00     97447\n",
      "weighted avg       1.00      1.00      1.00     97447\n",
      "\n",
      "ROC-AUC Score for Pipeline 1: 0.9967885582691867\n"
     ]
    }
   ],
   "source": [
    "from sklearn.metrics import classification_report, roc_auc_score\n",
    "from sklearn.model_selection import cross_val_score\n",
    "\n",
    "# Evaluate the vectorizer pipeline\n",
    "\n",
    "y_pred = vectorizer_pipeline.predict(x_final_test)\n",
    "print(\"vectorizer_pipeline:\")\n",
    "print(classification_report(y_final_test, y_pred))\n",
    "roc_auc = roc_auc_score(y_final_test, y_pred)\n",
    "\n",
    "print(\"ROC-AUC Score for Pipeline 1:\", roc_auc)\n"
   ]
  },
  {
   "cell_type": "code",
   "execution_count": null,
   "id": "90e33283-f315-490b-8399-126996cb1779",
   "metadata": {},
   "outputs": [],
   "source": []
  }
 ],
 "metadata": {
  "kernelspec": {
   "display_name": "Python 3 (ipykernel)",
   "language": "python",
   "name": "python3"
  },
  "language_info": {
   "codemirror_mode": {
    "name": "ipython",
    "version": 3
   },
   "file_extension": ".py",
   "mimetype": "text/x-python",
   "name": "python",
   "nbconvert_exporter": "python",
   "pygments_lexer": "ipython3",
   "version": "3.11.7"
  }
 },
 "nbformat": 4,
 "nbformat_minor": 5
}
